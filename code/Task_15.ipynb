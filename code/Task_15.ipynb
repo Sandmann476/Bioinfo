{
 "cells": [
  {
   "cell_type": "code",
   "execution_count": 2,
   "id": "d1f258fe",
   "metadata": {},
   "outputs": [
    {
     "name": "stderr",
     "output_type": "stream",
     "text": [
      "c:\\Users\\grufl\\Desktop\\211007 Sicherung USB\\uni\\Prakt bioinfo\\Bioinfo\\.venv\\Lib\\site-packages\\napari_tools_menu\\__init__.py:10: UserWarning: Importing QT failed; now introducing dummy definitions of QMenu class and register_function decorator.\n",
      "  warnings.warn(\"Importing QT failed; now introducing dummy definitions of QMenu class and register_function decorator.\")\n"
     ]
    }
   ],
   "source": [
    "import numpy as np\n",
    "import matplotlib.pyplot as plt\n",
    "import skimage as ski\n",
    "from skimage.feature import blob_log\n",
    "from skimage.filters import gaussian\n",
    "from skimage.data import cells3d\n",
    "from skimage import filters\n",
    "import glob\n",
    "import stackview\n",
    "import scipy as sp\n",
    "from napari_segment_blobs_and_things_with_membranes import split_touching_objects\n",
    "import pyclesperanto as cle\n",
    "import pandas as pd\n"
   ]
  },
  {
   "cell_type": "code",
   "execution_count": 3,
   "id": "d77eb5b8",
   "metadata": {},
   "outputs": [
    {
     "name": "stdout",
     "output_type": "stream",
     "text": [
      "['C:\\\\Users\\\\grufl\\\\Desktop\\\\211007 Sicherung USB\\\\uni\\\\Prakt bioinfo\\\\Bioinfo\\\\data\\\\raw\\\\selected-tiles\\\\out_opt_flow_registered_X10_Y10_c02_Alexa_488.tif', 'C:\\\\Users\\\\grufl\\\\Desktop\\\\211007 Sicherung USB\\\\uni\\\\Prakt bioinfo\\\\Bioinfo\\\\data\\\\raw\\\\selected-tiles\\\\out_opt_flow_registered_X10_Y10_c02_Alexa_568.tif', 'C:\\\\Users\\\\grufl\\\\Desktop\\\\211007 Sicherung USB\\\\uni\\\\Prakt bioinfo\\\\Bioinfo\\\\data\\\\raw\\\\selected-tiles\\\\out_opt_flow_registered_X10_Y10_c02_Alexa_647.tif', 'C:\\\\Users\\\\grufl\\\\Desktop\\\\211007 Sicherung USB\\\\uni\\\\Prakt bioinfo\\\\Bioinfo\\\\data\\\\raw\\\\selected-tiles\\\\out_opt_flow_registered_X10_Y10_c02_Atto_425.tif']\n"
     ]
    }
   ],
   "source": [
    "#Atto_425 = A\n",
    "#Alexa_488 = G\n",
    "#Alexa_568 = C\n",
    "#Alexa_647 = T\n",
    "first_file_select = sorted(glob.glob(r\"C:\\Users\\grufl\\Desktop\\211007 Sicherung USB\\uni\\Prakt bioinfo\\Bioinfo\\data\\raw\\selected-tiles\\out_opt_flow_registered_X10_Y10_*.tif\"))\n",
    "file_c01 = first_file_select[:4]\n",
    "file_c02 = first_file_select[6:10]\n",
    "print(file_c02)"
   ]
  },
  {
   "cell_type": "code",
   "execution_count": 4,
   "id": "6bcecf65",
   "metadata": {},
   "outputs": [
    {
     "name": "stdout",
     "output_type": "stream",
     "text": [
      "['C:\\\\Users\\\\grufl\\\\Desktop\\\\211007 Sicherung USB\\\\uni\\\\Prakt bioinfo\\\\Bioinfo\\\\data\\\\raw\\\\selected-tiles\\\\out_opt_flow_registered_X10_Y10_c01_Alexa_488.tif', 'C:\\\\Users\\\\grufl\\\\Desktop\\\\211007 Sicherung USB\\\\uni\\\\Prakt bioinfo\\\\Bioinfo\\\\data\\\\raw\\\\selected-tiles\\\\out_opt_flow_registered_X10_Y10_c01_Alexa_568.tif', 'C:\\\\Users\\\\grufl\\\\Desktop\\\\211007 Sicherung USB\\\\uni\\\\Prakt bioinfo\\\\Bioinfo\\\\data\\\\raw\\\\selected-tiles\\\\out_opt_flow_registered_X10_Y10_c01_Alexa_647.tif', 'C:\\\\Users\\\\grufl\\\\Desktop\\\\211007 Sicherung USB\\\\uni\\\\Prakt bioinfo\\\\Bioinfo\\\\data\\\\raw\\\\selected-tiles\\\\out_opt_flow_registered_X10_Y10_c01_Atto_425.tif']\n",
      "159.0\n"
     ]
    }
   ],
   "source": [
    "first_file_select = sorted(glob.glob(r\"C:\\Users\\grufl\\Desktop\\211007 Sicherung USB\\uni\\Prakt bioinfo\\Bioinfo\\data\\raw\\selected-tiles\\out_opt_flow_registered_X10_Y10_c01_*.tif\"))\n",
    "file_select = first_file_select[:4]\n",
    "print(file_select)\n",
    "images = [ski.io.imread(file) for file in file_select]\n",
    "image_data = np.stack(images, axis=0)\n",
    "# Maximum Intensity Projection\n",
    "mip = np.max(image_data, axis=0)\n",
    "# labeling von MIP\n",
    "image_denoised = gaussian(mip, sigma=2, preserve_range=True)\n",
    "image_binary = image_denoised > ski.filters.threshold_li(image_denoised)\n",
    "split_objects = split_touching_objects(image_binary)\n",
    "labeled_objects = ski.measure.label(split_objects, connectivity=1)\n",
    "mip_filtered_labels = cle.exclude_labels_outside_size_range(labeled_objects, minimum_size=150, maximum_size=2000)\n",
    "mip_num_features = mip_filtered_labels.max()\n",
    "print(mip_num_features)"
   ]
  },
  {
   "cell_type": "code",
   "execution_count": 5,
   "id": "c6dd8d52",
   "metadata": {},
   "outputs": [
    {
     "name": "stdout",
     "output_type": "stream",
     "text": [
      "Bounding boxes: [(4, 321, 24, 347), (7, 633, 26, 666), (8, 901, 28, 920), (10, 876, 32, 891), (14, 193, 40, 231), (14, 959, 32, 981), (21, 333, 36, 350), (24, 938, 37, 959), (26, 622, 69, 665), (30, 949, 59, 982), (31, 859, 47, 885), (39, 134, 58, 155), (42, 860, 68, 901), (52, 425, 71, 439), (55, 144, 71, 159), (57, 349, 83, 382), (66, 123, 88, 151), (69, 405, 96, 424), (71, 456, 104, 494), (75, 187, 101, 216), (92, 783, 122, 815), (99, 739, 120, 753), (113, 121, 144, 138), (114, 344, 145, 369), (118, 798, 142, 821), (120, 101, 150, 119), (120, 230, 154, 247), (121, 250, 142, 267), (138, 511, 162, 533), (175, 42, 199, 52), (177, 489, 195, 505), (184, 0, 223, 14), (186, 238, 204, 252), (193, 275, 218, 292), (210, 19, 225, 36), (222, 538, 248, 575), (223, 573, 269, 592), (230, 593, 252, 614), (238, 263, 291, 307), (243, 488, 297, 515), (253, 517, 266, 533), (258, 701, 288, 718), (282, 512, 322, 528), (282, 720, 297, 736), (287, 694, 303, 707), (292, 535, 318, 550), (300, 87, 323, 122), (319, 75, 342, 99), (326, 251, 344, 273), (337, 210, 358, 229), (344, 915, 364, 930), (348, 129, 366, 147), (358, 797, 381, 818), (360, 901, 376, 915), (370, 909, 388, 928), (377, 69, 433, 101), (384, 302, 405, 324), (387, 120, 407, 133), (395, 100, 423, 127), (397, 505, 428, 545), (411, 95, 440, 110), (424, 347, 445, 372), (427, 247, 443, 265), (435, 326, 466, 353), (441, 216, 456, 233), (448, 478, 469, 492), (448, 839, 474, 862), (452, 352, 467, 367), (453, 974, 475, 995), (463, 543, 493, 617), (465, 290, 482, 307), (474, 609, 512, 644), (476, 976, 491, 995), (483, 491, 511, 518), (484, 576, 521, 616), (490, 546, 514, 574), (492, 977, 519, 996), (494, 477, 511, 491), (495, 140, 537, 173), (499, 356, 538, 406), (502, 444, 523, 460), (521, 354, 544, 372), (521, 435, 546, 451), (536, 369, 557, 385), (536, 607, 551, 621), (546, 334, 557, 360), (552, 848, 576, 875), (557, 333, 574, 349), (562, 342, 596, 375), (565, 314, 593, 342), (596, 226, 648, 260), (605, 702, 617, 719), (616, 687, 651, 713), (624, 671, 654, 689), (641, 914, 658, 930), (662, 629, 676, 651), (681, 422, 712, 442), (688, 951, 730, 1000), (696, 400, 729, 416), (705, 39, 724, 60), (706, 929, 738, 962), (721, 579, 768, 632), (723, 797, 740, 816), (729, 26, 757, 59), (735, 924, 760, 947), (737, 218, 755, 233), (737, 884, 759, 908), (739, 519, 772, 543), (741, 73, 757, 95), (746, 202, 766, 219), (759, 567, 774, 585), (766, 176, 815, 230), (771, 622, 792, 644), (774, 371, 809, 402), (776, 331, 805, 360), (785, 398, 809, 417), (791, 571, 807, 601), (793, 748, 822, 780), (794, 491, 821, 529), (813, 399, 843, 424), (818, 685, 844, 701), (824, 0, 851, 13), (827, 372, 857, 402), (829, 90, 845, 104), (831, 188, 850, 206), (836, 518, 879, 556), (838, 694, 865, 718), (849, 190, 875, 231), (852, 822, 883, 845), (852, 844, 875, 874), (858, 676, 884, 687), (861, 154, 885, 171), (865, 806, 883, 822), (871, 836, 891, 862), (876, 355, 916, 412), (877, 273, 905, 294), (879, 717, 902, 731), (883, 251, 906, 267), (884, 814, 898, 832), (885, 791, 910, 811), (886, 567, 923, 597), (895, 448, 911, 464), (897, 809, 912, 823), (899, 536, 918, 567), (906, 596, 924, 611), (907, 728, 924, 743), (916, 367, 940, 393), (916, 540, 936, 560), (918, 117, 951, 149), (920, 562, 938, 583), (922, 333, 958, 365), (953, 197, 972, 213), (955, 172, 968, 187), (958, 417, 972, 431), (970, 724, 988, 737), (971, 669, 986, 684), (972, 561, 999, 597), (980, 689, 1000, 730), (986, 228, 1000, 268)]\n"
     ]
    }
   ],
   "source": [
    "#15.2\n",
    "\n",
    "# get region properties\n",
    "props = ski.measure.regionprops(mip_filtered_labels)\n",
    "\n",
    "# get bounding boxes for each label\n",
    "bboxes = [prop.bbox for prop in props]\n",
    "print(\"Bounding boxes:\", bboxes)"
   ]
  },
  {
   "cell_type": "code",
   "execution_count": 6,
   "id": "00edf4f9",
   "metadata": {},
   "outputs": [
    {
     "name": "stdout",
     "output_type": "stream",
     "text": [
      "{(4, 321, 24, 347): 2, (7, 633, 26, 666): 2, (8, 901, 28, 920): 1, (10, 876, 32, 891): 2, (14, 193, 40, 231): 2, (14, 959, 32, 981): 2, (21, 333, 36, 350): 2, (24, 938, 37, 959): 2, (26, 622, 69, 665): 2, (30, 949, 59, 982): 2, (31, 859, 47, 885): 2, (39, 134, 58, 155): 2, (42, 860, 68, 901): 2, (52, 425, 71, 439): 1, (55, 144, 71, 159): 2, (57, 349, 83, 382): 1, (66, 123, 88, 151): 2, (69, 405, 96, 424): 2, (71, 456, 104, 494): 2, (75, 187, 101, 216): 1, (92, 783, 122, 815): 2, (99, 739, 120, 753): 1, (113, 121, 144, 138): 2, (114, 344, 145, 369): 2, (118, 798, 142, 821): 2, (120, 101, 150, 119): 2, (120, 230, 154, 247): 2, (121, 250, 142, 267): 1, (138, 511, 162, 533): 2, (175, 42, 199, 52): 2, (177, 489, 195, 505): 1, (184, 0, 223, 14): 1, (186, 238, 204, 252): 2, (193, 275, 218, 292): 2, (210, 19, 225, 36): 2, (222, 538, 248, 575): 2, (223, 573, 269, 592): 1, (230, 593, 252, 614): 2, (238, 263, 291, 307): 2, (243, 488, 297, 515): 1, (253, 517, 266, 533): 2, (258, 701, 288, 718): 2, (282, 512, 322, 528): 2, (282, 720, 297, 736): 2, (287, 694, 303, 707): 2, (292, 535, 318, 550): 2, (300, 87, 323, 122): 2, (319, 75, 342, 99): 2, (326, 251, 344, 273): 1, (337, 210, 358, 229): 2, (344, 915, 364, 930): 2, (348, 129, 366, 147): 2, (358, 797, 381, 818): 2, (360, 901, 376, 915): 2, (370, 909, 388, 928): 1, (377, 69, 433, 101): 1, (384, 302, 405, 324): 2, (387, 120, 407, 133): 2, (395, 100, 423, 127): 2, (397, 505, 428, 545): 2, (411, 95, 440, 110): 2, (424, 347, 445, 372): 2, (427, 247, 443, 265): 1, (435, 326, 466, 353): 2, (441, 216, 456, 233): 2, (448, 478, 469, 492): 1, (448, 839, 474, 862): 2, (452, 352, 467, 367): 1, (453, 974, 475, 995): 2, (463, 543, 493, 617): 2, (465, 290, 482, 307): 2, (474, 609, 512, 644): 2, (476, 976, 491, 995): 2, (483, 491, 511, 518): 2, (484, 576, 521, 616): 1, (490, 546, 514, 574): 2, (492, 977, 519, 996): 2, (494, 477, 511, 491): 2, (495, 140, 537, 173): 2, (499, 356, 538, 406): 2, (502, 444, 523, 460): 2, (521, 354, 544, 372): 2, (521, 435, 546, 451): 2, (536, 369, 557, 385): 2, (536, 607, 551, 621): 2, (546, 334, 557, 360): 1, (552, 848, 576, 875): 2, (557, 333, 574, 349): 2, (562, 342, 596, 375): 2, (565, 314, 593, 342): 2, (596, 226, 648, 260): 1, (605, 702, 617, 719): 2, (616, 687, 651, 713): 2, (624, 671, 654, 689): 2, (641, 914, 658, 930): 2, (662, 629, 676, 651): 1, (681, 422, 712, 442): 2, (688, 951, 730, 1000): 2, (696, 400, 729, 416): 1, (705, 39, 724, 60): 2, (706, 929, 738, 962): 2, (721, 579, 768, 632): 2, (723, 797, 740, 816): 1, (729, 26, 757, 59): 2, (735, 924, 760, 947): 2, (737, 218, 755, 233): 1, (737, 884, 759, 908): 2, (739, 519, 772, 543): 2, (741, 73, 757, 95): 2, (746, 202, 766, 219): 1, (759, 567, 774, 585): 2, (766, 176, 815, 230): 1, (771, 622, 792, 644): 1, (774, 371, 809, 402): 2, (776, 331, 805, 360): 1, (785, 398, 809, 417): 2, (791, 571, 807, 601): 2, (793, 748, 822, 780): 2, (794, 491, 821, 529): 1, (813, 399, 843, 424): 2, (818, 685, 844, 701): 2, (824, 0, 851, 13): 1, (827, 372, 857, 402): 2, (829, 90, 845, 104): 1, (831, 188, 850, 206): 2, (836, 518, 879, 556): 2, (838, 694, 865, 718): 1, (849, 190, 875, 231): 2, (852, 822, 883, 845): 2, (852, 844, 875, 874): 2, (858, 676, 884, 687): 1, (861, 154, 885, 171): 1, (865, 806, 883, 822): 2, (871, 836, 891, 862): 2, (876, 355, 916, 412): 2, (877, 273, 905, 294): 2, (879, 717, 902, 731): 1, (883, 251, 906, 267): 2, (884, 814, 898, 832): 2, (885, 791, 910, 811): 1, (886, 567, 923, 597): 2, (895, 448, 911, 464): 2, (897, 809, 912, 823): 2, (899, 536, 918, 567): 2, (906, 596, 924, 611): 1, (907, 728, 924, 743): 1, (916, 367, 940, 393): 2, (916, 540, 936, 560): 2, (918, 117, 951, 149): 2, (920, 562, 938, 583): 2, (922, 333, 958, 365): 2, (953, 197, 972, 213): 2, (955, 172, 968, 187): 1, (958, 417, 972, 431): 1, (970, 724, 988, 737): 2, (971, 669, 986, 684): 1, (972, 561, 999, 597): 2, (980, 689, 1000, 730): 2, (986, 228, 1000, 268): 2}\n"
     ]
    }
   ],
   "source": [
    "channel_analysis = {}\n",
    "for box in bboxes:\n",
    "    best_fit = None\n",
    "    best_fit_index = None\n",
    "    min_row, min_col, max_row, max_col = box\n",
    "    for idx, image in enumerate(images):\n",
    "        roi = image[min_row:max_row, min_col:max_col]\n",
    "        roi_mean = roi.mean()\n",
    "        if best_fit is None:\n",
    "            best_fit = roi\n",
    "            best_fit_index = idx\n",
    "        elif roi_mean > best_fit.mean():\n",
    "            best_fit = roi\n",
    "            best_fit_index = idx\n",
    "    channel_analysis[box] = best_fit_index\n",
    "print(channel_analysis)"
   ]
  },
  {
   "cell_type": "code",
   "execution_count": 7,
   "id": "642fc28c",
   "metadata": {},
   "outputs": [
    {
     "name": "stdout",
     "output_type": "stream",
     "text": [
      "A: 0\n",
      "G: 0\n",
      "C: 40\n",
      "T: 119\n"
     ]
    }
   ],
   "source": [
    "A_count = 0\n",
    "G_count = 0\n",
    "C_count = 0\n",
    "T_count = 0\n",
    "for box in channel_analysis:\n",
    "    if channel_analysis[box] == 0:\n",
    "        G_count += 1\n",
    "    elif channel_analysis[box] == 1:\n",
    "        C_count += 1\n",
    "    elif channel_analysis[box] == 2:\n",
    "        T_count += 1\n",
    "    elif channel_analysis[box] == 3:\n",
    "        A_count += 1\n",
    "print(\"A:\", A_count)\n",
    "print(\"G:\", G_count)\n",
    "print(\"C:\", C_count)\n",
    "print(\"T:\", T_count)"
   ]
  },
  {
   "cell_type": "code",
   "execution_count": 26,
   "id": "dfa849f1",
   "metadata": {},
   "outputs": [
    {
     "name": "stdout",
     "output_type": "stream",
     "text": [
      "{(4, 321, 34, 348): [0, 'G', 2, 'T', 1, 'C', 0, 'G'], (8, 634, 22, 650): [1, 'C', 2, 'T', 2, 'T', 0, 'G'], (10, 902, 27, 917): [1, 'C', 1, 'C', 1, 'C', 0, 'G'], (12, 195, 30, 213): [0, 'G', 0, 'G', 0, 'G', 0, 'G'], (12, 876, 35, 889): [0, 'G', 2, 'T', 1, 'C', 1, 'C'], (14, 958, 31, 980): [0, 'G', 0, 'G', 0, 'G', 3, 'A'], (17, 210, 39, 230): [2, 'T', 0, 'G', 0, 'G', 0, 'G'], (17, 648, 30, 668): [3, 'A', 2, 'T', 2, 'T', 3, 'A'], (28, 622, 69, 663): [0, 'G', 2, 'T', 2, 'T', 0, 'G'], (36, 861, 68, 898): [3, 'A', 2, 'T', 2, 'T', 3, 'A'], (37, 135, 58, 157): [3, 'A', 0, 'G', 0, 'G', 0, 'G'], (46, 418, 64, 435): [3, 'A', 3, 'A', 3, 'A', 3, 'A'], (56, 144, 71, 159): [3, 'A', 0, 'G', 0, 'G', 3, 'A'], (57, 350, 84, 382): [1, 'C', 0, 'G', 2, 'T', 2, 'T'], (67, 124, 90, 152): [3, 'A', 0, 'G', 1, 'C', 1, 'C'], (71, 457, 103, 494): [0, 'G', 0, 'G', 0, 'G', 3, 'A'], (74, 405, 95, 417): [2, 'T', 3, 'A', 0, 'G', 0, 'G'], (76, 187, 105, 216): [0, 'G', 0, 'G', 2, 'T', 2, 'T'], (92, 788, 117, 818): [1, 'C', 2, 'T', 2, 'T', 0, 'G'], (114, 345, 144, 368): [0, 'G', 3, 'A', 3, 'A', 2, 'T'], (116, 99, 154, 141): [3, 'A', 3, 'A', 2, 'T', 2, 'T'], (119, 229, 154, 246): [0, 'G', 0, 'G', 0, 'G', 3, 'A'], (121, 249, 142, 264): [1, 'C', 0, 'G', 0, 'G', 0, 'G'], (121, 807, 140, 820): [0, 'G', 0, 'G', 0, 'G', 3, 'A'], (138, 513, 161, 532): [3, 'A', 1, 'C', 1, 'C', 2, 'T'], (150, 170, 176, 187): [0, 'G', 2, 'T', 2, 'T', 2, 'T'], (176, 267, 189, 284): [0, 'G', 0, 'G', 3, 'A', 2, 'T'], (183, 0, 220, 15): [1, 'C', 1, 'C', 1, 'C', 1, 'C'], (198, 278, 219, 293): [3, 'A', 1, 'C', 2, 'T', 2, 'T'], (222, 13, 241, 26): [3, 'A', 3, 'A', 1, 'C', 2, 'T'], (222, 536, 242, 560): [0, 'G', 2, 'T', 2, 'T', 2, 'T'], (223, 565, 248, 587): [3, 'A', 0, 'G', 2, 'T', 2, 'T'], (230, 593, 250, 612): [3, 'A', 2, 'T', 2, 'T', 3, 'A'], (238, 264, 287, 308): [3, 'A', 0, 'G', 0, 'G', 3, 'A'], (241, 574, 267, 592): [3, 'A', 3, 'A', 3, 'A', 3, 'A'], (243, 486, 280, 509): [3, 'A', 3, 'A', 2, 'T', 3, 'A'], (278, 719, 297, 737): [3, 'A', 3, 'A', 2, 'T', 3, 'A'], (279, 486, 294, 506): [1, 'C', 1, 'C', 2, 'T', 2, 'T'], (282, 0, 304, 13): [3, 'A', 3, 'A', 2, 'T', 2, 'T'], (282, 513, 304, 526): [0, 'G', 0, 'G', 0, 'G', 3, 'A'], (301, 88, 320, 123): [3, 'A', 0, 'G', 2, 'T', 2, 'T'], (315, 77, 340, 100): [3, 'A', 0, 'G', 0, 'G', 0, 'G'], (337, 211, 356, 229): [3, 'A', 0, 'G', 3, 'A', 3, 'A'], (348, 130, 364, 148): [3, 'A', 0, 'G', 0, 'G', 1, 'C'], (360, 797, 376, 817): [3, 'A', 1, 'C', 1, 'C', 1, 'C'], (372, 909, 386, 926): [1, 'C', 1, 'C', 1, 'C', 1, 'C'], (382, 301, 408, 322): [3, 'A', 1, 'C', 1, 'C', 1, 'C'], (387, 117, 406, 134): [3, 'A', 0, 'G', 0, 'G', 0, 'G'], (388, 65, 419, 106): [3, 'A', 0, 'G', 0, 'G', 0, 'G'], (397, 505, 420, 523): [0, 'G', 0, 'G', 0, 'G', 3, 'A'], (397, 523, 424, 542): [3, 'A', 0, 'G', 2, 'T', 0, 'G'], (407, 112, 420, 127): [3, 'A', 3, 'A', 3, 'A', 3, 'A'], (409, 79, 438, 112): [1, 'C', 0, 'G', 2, 'T', 2, 'T'], (423, 348, 443, 371): [3, 'A', 3, 'A', 3, 'A', 3, 'A'], (434, 327, 464, 352): [3, 'A', 3, 'A', 3, 'A', 3, 'A'], (449, 842, 468, 861): [3, 'A', 3, 'A', 3, 'A', 3, 'A'], (464, 290, 480, 305): [2, 'T', 0, 'G', 0, 'G', 0, 'G'], (470, 543, 493, 560): [0, 'G', 1, 'C', 1, 'C', 1, 'C'], (476, 558, 493, 576): [3, 'A', 0, 'G', 2, 'T', 0, 'G'], (476, 974, 516, 997): [3, 'A', 3, 'A', 3, 'A', 3, 'A'], (484, 493, 508, 519): [2, 'T', 2, 'T', 2, 'T', 2, 'T'], (492, 549, 510, 567): [2, 'T', 2, 'T', 3, 'A', 2, 'T'], (495, 142, 522, 174): [3, 'A', 3, 'A', 3, 'A', 3, 'A'], (499, 367, 555, 399): [0, 'G', 0, 'G', 2, 'T', 2, 'T'], (500, 446, 521, 459): [3, 'A', 2, 'T', 2, 'T', 3, 'A'], (513, 354, 542, 371): [0, 'G', 0, 'G', 0, 'G', 0, 'G'], (519, 144, 535, 159): [3, 'A', 3, 'A', 3, 'A', 3, 'A'], (520, 435, 541, 449): [3, 'A', 0, 'G', 0, 'G', 0, 'G'], (535, 607, 550, 620): [2, 'T', 1, 'C', 1, 'C', 2, 'T'], (545, 328, 576, 356): [0, 'G', 0, 'G', 3, 'A', 3, 'A'], (550, 850, 573, 873): [3, 'A', 3, 'A', 3, 'A', 3, 'A'], (562, 356, 593, 374): [0, 'G', 0, 'G', 0, 'G', 0, 'G'], (564, 314, 583, 328): [0, 'G', 0, 'G', 0, 'G', 0, 'G'], (567, 342, 588, 359): [2, 'T', 2, 'T', 1, 'C', 1, 'C'], (596, 226, 646, 255): [1, 'C', 1, 'C', 1, 'C', 1, 'C'], (617, 689, 644, 710): [2, 'T', 2, 'T', 2, 'T', 2, 'T'], (627, 672, 652, 688): [0, 'G', 0, 'G', 2, 'T', 2, 'T'], (658, 888, 675, 903): [0, 'G', 0, 'G', 0, 'G', 0, 'G'], (671, 861, 686, 874): [3, 'A', 1, 'C', 1, 'C', 1, 'C'], (691, 952, 713, 980): [3, 'A', 3, 'A', 2, 'T', 2, 'T'], (703, 392, 726, 413): [0, 'G', 0, 'G', 0, 'G', 0, 'G'], (706, 930, 719, 947): [0, 'G', 1, 'C', 1, 'C', 1, 'C'], (716, 938, 736, 957): [3, 'A', 3, 'A', 2, 'T', 2, 'T'], (722, 597, 747, 631): [2, 'T', 2, 'T', 2, 'T', 2, 'T'], (730, 28, 754, 59): [3, 'A', 3, 'A', 3, 'A', 3, 'A'], (740, 926, 756, 945): [0, 'G', 0, 'G', 0, 'G', 0, 'G'], (742, 74, 756, 95): [3, 'A', 1, 'C', 1, 'C', 1, 'C'], (743, 527, 760, 543): [3, 'A', 1, 'C', 1, 'C', 1, 'C'], (746, 202, 766, 215): [1, 'C', 1, 'C', 1, 'C', 2, 'T'], (747, 589, 767, 625): [3, 'A', 3, 'A', 1, 'C', 1, 'C'], (758, 568, 771, 583): [2, 'T', 2, 'T', 2, 'T', 2, 'T'], (766, 178, 813, 217): [1, 'C', 1, 'C', 1, 'C', 2, 'T'], (769, 211, 788, 227): [1, 'C', 1, 'C', 1, 'C', 2, 'T'], (772, 624, 790, 641): [1, 'C', 1, 'C', 2, 'T', 2, 'T'], (773, 374, 806, 395): [0, 'G', 0, 'G', 0, 'G', 0, 'G'], (778, 332, 800, 352): [1, 'C', 3, 'A', 3, 'A', 3, 'A'], (788, 574, 805, 600): [0, 'G', 0, 'G', 0, 'G', 0, 'G'], (792, 499, 821, 527): [1, 'C', 1, 'C', 1, 'C', 1, 'C'], (793, 748, 828, 778): [3, 'A', 3, 'A', 3, 'A', 3, 'A'], (818, 401, 841, 420): [3, 'A', 3, 'A', 2, 'T', 2, 'T'], (819, 685, 835, 699): [3, 'A', 3, 'A', 3, 'A', 3, 'A'], (828, 372, 856, 407): [0, 'G', 3, 'A', 3, 'A', 3, 'A'], (834, 189, 850, 204): [2, 'T', 3, 'A', 0, 'G', 0, 'G'], (836, 0, 851, 13): [1, 'C', 1, 'C', 1, 'C', 1, 'C'], (837, 521, 858, 546): [0, 'G', 0, 'G', 0, 'G', 0, 'G'], (838, 203, 854, 218): [2, 'T', 3, 'A', 3, 'A', 3, 'A'], (839, 691, 867, 711): [3, 'A', 1, 'C', 1, 'C', 1, 'C'], (852, 191, 869, 208): [0, 'G', 3, 'A', 3, 'A', 3, 'A'], (852, 207, 877, 229): [2, 'T', 3, 'A', 3, 'A', 3, 'A'], (853, 835, 890, 872): [3, 'A', 3, 'A', 1, 'C', 1, 'C'], (857, 529, 880, 555): [0, 'G', 0, 'G', 0, 'G', 3, 'A'], (857, 825, 878, 839): [3, 'A', 3, 'A', 3, 'A', 3, 'A'], (872, 805, 884, 823): [0, 'G', 0, 'G', 0, 'G', 0, 'G'], (878, 356, 924, 411): [0, 'G', 3, 'A', 3, 'A', 3, 'A'], (879, 275, 905, 290): [0, 'G', 3, 'A', 3, 'A', 3, 'A'], (885, 252, 908, 263): [0, 'G', 3, 'A', 3, 'A', 3, 'A'], (887, 569, 928, 595): [0, 'G', 0, 'G', 0, 'G', 0, 'G'], (896, 595, 925, 611): [0, 'G', 0, 'G', 0, 'G', 3, 'A'], (919, 541, 936, 556): [0, 'G', 2, 'T', 2, 'T', 2, 'T'], (920, 119, 952, 149): [3, 'A', 3, 'A', 3, 'A', 3, 'A'], (922, 562, 938, 577): [3, 'A', 3, 'A', 3, 'A', 3, 'A'], (923, 376, 941, 390): [0, 'G', 1, 'C', 1, 'C', 1, 'C'], (925, 337, 950, 362): [0, 'G', 0, 'G', 0, 'G', 0, 'G'], (945, 356, 958, 377): [3, 'A', 1, 'C', 1, 'C', 1, 'C'], (964, 454, 976, 472): [3, 'A', 3, 'A', 3, 'A', 3, 'A'], (973, 559, 1000, 594): [3, 'A', 2, 'T', 2, 'T', 2, 'T'], (981, 705, 1000, 728): [3, 'A', 3, 'A', 3, 'A', 3, 'A'], (987, 229, 1000, 268): [0, 'G', 0, 'G', 0, 'G', 0, 'G']}\n"
     ]
    }
   ],
   "source": [
    "first_file_select = sorted(glob.glob(r\"C:\\Users\\grufl\\Desktop\\211007 Sicherung USB\\uni\\Prakt bioinfo\\Bioinfo\\data\\raw\\selected-tiles\\out_opt_flow_registered_X10_Y10_*.tif\"))\n",
    "\n",
    "files_c01 = first_file_select[:4]\n",
    "files_c02 = first_file_select[6:10]\n",
    "files_c03 = first_file_select[12:16]\n",
    "files_c04 = first_file_select[18:22]\n",
    "files_cX = [files_c01, files_c02, files_c03, files_c04]\n",
    "\n",
    "image_data_list = []\n",
    "for list in files_cX:\n",
    "    images = [ski.io.imread(file) for file in list]\n",
    "    for file in list:\n",
    "        image = ski.io.imread(file)\n",
    "        p1 = np.percentile(image, 1)\n",
    "        p99 = np.percentile(image, 99)\n",
    "        norm_image = (image - p1) / (p99 - p1)\n",
    "        images.append(norm_image)\n",
    "    image_data = np.stack(images, axis=0)\n",
    "    mip_temp = np.max(image_data, axis=0)\n",
    "    image_data_list.append(mip_temp)\n",
    "# Maximum Intensity Projection\n",
    "image_data = np.stack(image_data_list, axis=0)\n",
    "mip = np.max(image_data, axis=0)\n",
    "# labeling von MIP\n",
    "image_denoised = gaussian(mip, sigma=2, preserve_range=True)\n",
    "image_binary = image_denoised > ski.filters.threshold_li(image_denoised)\n",
    "split_objects = split_touching_objects(image_binary)\n",
    "labeled_objects = ski.measure.label(split_objects, connectivity=1)\n",
    "mip_filtered_labels = cle.exclude_labels_outside_size_range(labeled_objects, minimum_size=150, maximum_size=2000)\n",
    "mip_num_features = mip_filtered_labels.max()\n",
    "#print(\"Number of features in MIP:\", mip_num_features)\n",
    "# get region properties\n",
    "props = ski.measure.regionprops(mip_filtered_labels)\n",
    "#print(\"Number of properties:\", len(props))\n",
    "# get bounding boxes for each label\n",
    "bboxes = [prop.bbox for prop in props]\n",
    "#print(\"Bounding boxes:\", bboxes)\n",
    "\n",
    "barcode_per_bbox = {}\n",
    "for box in bboxes:\n",
    "        barcode_per_bbox[box] = []\n",
    "        best_fit = None\n",
    "        best_fit_index = None\n",
    "        min_row, min_col, max_row, max_col = box\n",
    "        for list in files_cX:\n",
    "            images = [ski.io.imread(file) for file in list]\n",
    "            for idx, image in enumerate(images):\n",
    "                p1 = np.percentile(image, 1)\n",
    "                p99 = np.percentile(image, 99)\n",
    "                norm_image = (image - p1) / (p99 - p1)\n",
    "                roi = norm_image[min_row:max_row, min_col:max_col]\n",
    "                roi_mean = roi.mean()\n",
    "                if best_fit is None:\n",
    "                    best_fit = roi\n",
    "                    best_fit_index = idx\n",
    "                elif roi_mean > best_fit.mean():\n",
    "                    best_fit = roi\n",
    "                    best_fit_index = idx\n",
    "            barcode_per_bbox[box].append(best_fit_index)\n",
    "            if best_fit_index == 0:\n",
    "                barcode_per_bbox[box].append(\"G\")\n",
    "            elif best_fit_index == 1:\n",
    "                barcode_per_bbox[box].append(\"C\")\n",
    "            elif best_fit_index == 2:\n",
    "                barcode_per_bbox[box].append(\"T\")\n",
    "            elif best_fit_index == 3:\n",
    "                barcode_per_bbox[box].append(\"A\")\n",
    "\n",
    "print(barcode_per_bbox)\n"
   ]
  }
 ],
 "metadata": {
  "kernelspec": {
   "display_name": "bioinfo",
   "language": "python",
   "name": "python3"
  },
  "language_info": {
   "codemirror_mode": {
    "name": "ipython",
    "version": 3
   },
   "file_extension": ".py",
   "mimetype": "text/x-python",
   "name": "python",
   "nbconvert_exporter": "python",
   "pygments_lexer": "ipython3",
   "version": "3.12.10"
  }
 },
 "nbformat": 4,
 "nbformat_minor": 5
}
